{
  "cells": [
    {
      "cell_type": "markdown",
      "metadata": {
        "id": "view-in-github",
        "colab_type": "text"
      },
      "source": [
        "<a href=\"https://colab.research.google.com/github/alevant/mlcourse-Nov22/blob/main/Classification_and_K_means_fish.ipynb\" target=\"_parent\"><img src=\"https://colab.research.google.com/assets/colab-badge.svg\" alt=\"Open In Colab\"/></a>"
      ]
    },
    {
      "cell_type": "markdown",
      "id": "nervous-subscriber",
      "metadata": {
        "id": "nervous-subscriber"
      },
      "source": [
        "# Performing K-Means clustering on Fish Market dataset with K = 7 (No. of fish species). Normalize dataset before clustering. Scikit Learn is used for clustering. Collecting the best possible  combination and assignment in clusters and performance comparison with the true class labels (Species)? Describing results.\n",
        "\n",
        "# Reading data and displaying, As in K-means clustering we do not provide labels (unsupervised) we may not to convert our  data in train and test"
      ]
    },
    {
      "cell_type": "code",
      "source": [
        "!git clone https://github.com/alevant/mlcourse mlcourse"
      ],
      "metadata": {
        "id": "fb3aeFEWIPkB",
        "outputId": "86438cfd-2f8a-47fa-b374-86732f296013",
        "colab": {
          "base_uri": "https://localhost:8080/"
        }
      },
      "id": "fb3aeFEWIPkB",
      "execution_count": null,
      "outputs": [
        {
          "output_type": "stream",
          "name": "stdout",
          "text": [
            "Cloning into 'mlcourse'...\n",
            "remote: Enumerating objects: 45, done.\u001b[K\n",
            "remote: Counting objects: 100% (45/45), done.\u001b[K\n",
            "remote: Compressing objects: 100% (42/42), done.\u001b[K\n",
            "remote: Total 45 (delta 14), reused 0 (delta 0), pack-reused 0\u001b[K\n",
            "Unpacking objects: 100% (45/45), done.\n"
          ]
        }
      ]
    },
    {
      "cell_type": "code",
      "execution_count": null,
      "id": "marine-argument",
      "metadata": {
        "id": "marine-argument"
      },
      "outputs": [],
      "source": [
        "from sklearn.cluster import KMeans\n",
        "from sklearn import preprocessing\n",
        "import matplotlib.pyplot as plt\n",
        "import os\n",
        "import pandas as pd\n",
        "import numpy as np"
      ]
    },
    {
      "cell_type": "code",
      "execution_count": null,
      "id": "civilian-guarantee",
      "metadata": {
        "id": "civilian-guarantee",
        "outputId": "66c021e0-d9ff-4b8a-e8fe-83ce41b74646",
        "colab": {
          "base_uri": "https://localhost:8080/"
        }
      },
      "outputs": [
        {
          "output_type": "stream",
          "name": "stdout",
          "text": [
            "    Species  Weight  Length1  Length2  Length3   Height   Width\n",
            "158   Smelt    19.9     13.8     15.0     16.2   2.9322  1.8792\n",
            "69   Parkki   200.0     21.2     23.0     25.8  10.3458  3.6636\n",
            "13    Bream   340.0     29.5     32.0     37.3  13.9129  5.0728\n",
            "34    Bream   950.0     38.0     41.0     46.5  17.6235  6.3705\n",
            "117   Perch   650.0     36.5     39.0     41.4  11.1366  6.0030\n",
            "116   Perch   900.0     36.5     39.0     41.4  11.1366  7.4934\n",
            "105   Perch   250.0     25.4     27.5     28.9   7.2828  4.5662\n",
            "94    Perch   150.0     21.0     23.0     24.5   5.2185  3.6260\n",
            "152   Smelt     9.9     11.3     11.8     13.1   2.2139  1.1659\n",
            "148   Smelt     9.7     10.4     11.0     12.0   2.1960  1.3800\n"
          ]
        }
      ],
      "source": [
        "current_path2 = os.getcwd()#% Finding current directory of the notebook\n",
        "current_path2 =os.path.join(current_path2,'./mlcourse/Fish.csv') # Adding file name at the end of the address\n",
        "data2 = pd.read_csv(current_path2)# reading csv file given on current_path\n",
        "fish2 = data2.copy()\n",
        "print(fish2.sample(10))#Displaying 10 random samples from dataset\n",
        "\n",
        "\n",
        "xtrain2 =fish2.copy()\n",
        "\n",
        "xtrain2.drop(['Species'],axis=1,inplace=True) #Removing Species Column\n",
        "ytrain2 = fish2['Species']\n",
        "X_scaled = preprocessing.scale(xtrain2) # scaling so that mean =0 variance =1\n",
        "kmeans = KMeans(n_clusters=7, random_state=0).fit(X_scaled) # make 7 clusters and fit on normalized data"
      ]
    },
    {
      "cell_type": "code",
      "execution_count": null,
      "id": "hungry-softball",
      "metadata": {
        "id": "hungry-softball"
      },
      "outputs": [],
      "source": [
        "clusters= kmeans.predict(X_scaled) # Find the class of particular sample it belongs to"
      ]
    },
    {
      "cell_type": "code",
      "execution_count": null,
      "id": "demonstrated-confidentiality",
      "metadata": {
        "id": "demonstrated-confidentiality"
      },
      "outputs": [],
      "source": [
        "#Ground truth label encoding \n",
        "y = [];\n",
        "Species = {'Bream':0,'Roach':1, 'Whitefish':2, 'Parkki':3 , 'Perch' : 4 , 'Pike':5 , 'Smelt':6 }\n",
        "for Specie in ytrain2:\n",
        "    y.append(Species[Specie])\n",
        "y=np.asarray(y) "
      ]
    },
    {
      "cell_type": "code",
      "execution_count": null,
      "id": "later-calibration",
      "metadata": {
        "id": "later-calibration"
      },
      "outputs": [],
      "source": [
        "# Swaping true label as per clusters \n",
        "\n",
        "from scipy.stats import mode\n",
        "k_label = np.zeros_like(clusters)\n",
        "for i in range(7):\n",
        "    tempmask = (clusters == i) # return true and false with true where cluster is equal to i-th label\n",
        "    \n",
        "    k_label[tempmask] = mode(y[tempmask])[0] # It will return value which is the most occuring in \n",
        "                                            # the given array "
      ]
    },
    {
      "cell_type": "markdown",
      "id": "victorian-currency",
      "metadata": {
        "id": "victorian-currency"
      },
      "source": [
        "# It can be seen from the below two arrays that the above process is just swapping clusters class labels to get the maximum accuracy\n"
      ]
    },
    {
      "cell_type": "code",
      "execution_count": null,
      "id": "boring-heart",
      "metadata": {
        "id": "boring-heart",
        "outputId": "6883bac5-8282-46ba-8d1b-c6e2300fdfe3",
        "colab": {
          "base_uri": "https://localhost:8080/"
        }
      },
      "outputs": [
        {
          "output_type": "stream",
          "name": "stdout",
          "text": [
            "[0 0 0 0 4 4 4 4 4 4 4 4 4 4 4 4 4 4 4 4 4 4 4 4 4 4 4 4 2 2 2 2 2 2 2 3 1\n",
            " 1 1 1 1 1 1 1 1 1 1 1 1 1 1 0 0 0 0 0 0 0 4 2 2 3 3 1 1 1 1 1 1 0 0 0 3 3\n",
            " 3 3 1 1 1 1 1 1 1 1 1 1 1 1 1 1 1 1 1 1 1 1 1 1 1 1 0 0 0 0 0 0 0 0 0 4 4\n",
            " 2 4 4 4 4 2 4 2 2 2 2 2 2 2 2 2 2 0 6 6 6 6 6 6 6 6 6 6 6 5 5 5 5 5 3 3 3\n",
            " 3 3 3 3 3 3 3 3 3 3 3]\n"
          ]
        }
      ],
      "source": [
        "print(clusters)"
      ]
    },
    {
      "cell_type": "code",
      "execution_count": null,
      "id": "affecting-miracle",
      "metadata": {
        "id": "affecting-miracle",
        "outputId": "467a3d15-0a87-491f-c9c6-e76fd6ff4032",
        "colab": {
          "base_uri": "https://localhost:8080/"
        }
      },
      "outputs": [
        {
          "output_type": "stream",
          "name": "stdout",
          "text": [
            "[4 4 4 4 0 0 0 0 0 0 0 0 0 0 0 0 0 0 0 0 0 0 0 0 0 0 0 0 4 4 4 4 4 4 4 6 4\n",
            " 4 4 4 4 4 4 4 4 4 4 4 4 4 4 4 4 4 4 4 4 4 0 4 4 6 6 4 4 4 4 4 4 4 4 4 6 6\n",
            " 6 6 4 4 4 4 4 4 4 4 4 4 4 4 4 4 4 4 4 4 4 4 4 4 4 4 4 4 4 4 4 4 4 4 4 0 0\n",
            " 4 0 0 0 0 4 0 4 4 4 4 4 4 4 4 4 4 4 5 5 5 5 5 5 5 5 5 5 5 5 5 5 5 5 6 6 6\n",
            " 6 6 6 6 6 6 6 6 6 6 6]\n"
          ]
        }
      ],
      "source": [
        "print(k_label)"
      ]
    },
    {
      "cell_type": "markdown",
      "id": "christian-archives",
      "metadata": {
        "id": "christian-archives"
      },
      "source": [
        "# How well do the clusters that you obtained in K-means clustering compare to the true class labels (Species)?"
      ]
    },
    {
      "cell_type": "code",
      "execution_count": null,
      "id": "willing-possession",
      "metadata": {
        "id": "willing-possession",
        "outputId": "2fb0a75c-e5a5-4d0d-f0bf-070035af3022",
        "colab": {
          "base_uri": "https://localhost:8080/"
        }
      },
      "outputs": [
        {
          "output_type": "stream",
          "name": "stdout",
          "text": [
            "0.6226415094339622\n"
          ]
        }
      ],
      "source": [
        "from sklearn.metrics import accuracy_score\n",
        "print(accuracy_score(y, k_label))"
      ]
    },
    {
      "cell_type": "code",
      "execution_count": null,
      "id": "social-czech",
      "metadata": {
        "id": "social-czech",
        "outputId": "cc4b6153-35cf-4ded-d252-bbbf2b701624",
        "colab": {
          "base_uri": "https://localhost:8080/",
          "height": 327
        }
      },
      "outputs": [
        {
          "output_type": "display_data",
          "data": {
            "text/plain": [
              "<Figure size 432x288 with 1 Axes>"
            ],
            "image/png": "[encoded data removed]"
          },
          "metadata": {}
        }
      ],
      "source": [
        "from sklearn.metrics import confusion_matrix\n",
        "import seaborn as sns; sns.set()\n",
        "mat = confusion_matrix(y, k_label)\n",
        "sns.heatmap(mat.T, square=True, annot=True, fmt='d', cbar=False,\n",
        "            xticklabels=Species,\n",
        "            yticklabels=Species)\n",
        "plt.xlabel('true label')\n",
        "plt.ylabel('predicted label');"
      ]
    },
    {
      "cell_type": "markdown",
      "id": "adult-minutes",
      "metadata": {
        "id": "adult-minutes"
      },
      "source": [
        "# Describing Results\n",
        "\n",
        "The dataset is highly imbalnced, there are only $6$ examples for the specie of \"Whitefish\". For the first class, Bream, there are $35$ samples in total out of which $25$ are classified as Bream and rest of them are classfied as Perch. \n",
        "The maximum error in classification is in case of Roach, Whitefish, and Parkki. Most of them are classified as perch. The possible reason of this failure is data distribution. More than one third of the dataset is consist of Perch, a possible reason of failure in classifying the other classes with small number of samples. The other reason of this miscalssifcation can be the close resembalnce of features in between Perch and rest of the three classes.\n",
        "\n",
        "For Pike and Smelt even thoguh we don't have many sampels the results are promising indicating that features describing these two species are more discrete when compared to other fish species. \n",
        "\n"
      ]
    }
  ],
  "metadata": {
    "kernelspec": {
      "display_name": "Python 3",
      "language": "python",
      "name": "python3"
    },
    "language_info": {
      "codemirror_mode": {
        "name": "ipython",
        "version": 3
      },
      "file_extension": ".py",
      "mimetype": "text/x-python",
      "name": "python",
      "nbconvert_exporter": "python",
      "pygments_lexer": "ipython3",
      "version": "3.6.12"
    },
    "colab": {
      "provenance": [],
      "include_colab_link": true
    }
  },
  "nbformat": 4,
  "nbformat_minor": 5
}